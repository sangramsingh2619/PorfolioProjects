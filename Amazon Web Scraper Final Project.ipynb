{
 "cells": [
  {
   "cell_type": "code",
   "execution_count": 1,
   "id": "0d7038b8",
   "metadata": {},
   "outputs": [],
   "source": [
    "#import libraries\n",
    "\n",
    "from bs4 import BeautifulSoup\n",
    "import requests\n",
    "import time\n",
    "import datetime"
   ]
  },
  {
   "cell_type": "code",
   "execution_count": 44,
   "id": "8f194041",
   "metadata": {},
   "outputs": [
    {
     "name": "stdout",
     "output_type": "stream",
     "text": [
      "\n",
      "                   Two Types of People Extrapolate From Incomplete Data Gift T-Shirt\n",
      "                  \n",
      "\n",
      "                    6 ratings\n",
      "                   \n"
     ]
    }
   ],
   "source": [
    "#connect to website\n",
    "\n",
    "URL = 'https://www.amazon.co.uk/Two-types-people-extrapolate-incomplete/dp/B07GV1XDJT/ref=sr_1_6?crid=1NQM7F3X94NDM&keywords=data+tshirt&qid=1679571475&sprefix=data+tshirt%2Caps%2C63&sr=8-6'\n",
    "\n",
    "headers = {\"User-Agent\": \"Mozilla/5.0 (Macintosh; Intel Mac OS X 10_15_7) AppleWebKit/537.36 (KHTML, like Gecko) Chrome/111.0.0.0 Safari/537.36\"}\n",
    "\n",
    "page = requests.get(URL, headers=headers)\n",
    "\n",
    "soup1 = BeautifulSoup(page.content,'html.parser')\n",
    "\n",
    "soup2 = BeautifulSoup(soup1.prettify(),'html.parser')\n",
    "\n",
    "title = soup2.find(id='productTitle').get_text()\n",
    "\n",
    "review = soup2.find(id=\"acrCustomerReviewText\").get_text()\n",
    "\n",
    "print(title)\n",
    "print(review)\n"
   ]
  },
  {
   "cell_type": "code",
   "execution_count": 54,
   "id": "d86532a2",
   "metadata": {},
   "outputs": [
    {
     "name": "stdout",
     "output_type": "stream",
     "text": [
      "Two Types of People Extrapolate From Incomplete Data Gift T-Shirt\n",
      "\n",
      "                    6 ratings\n",
      "                   \n"
     ]
    }
   ],
   "source": [
    "reveiw = review.strip()[1:]\n",
    "title = title.strip()\n",
    "\n",
    "print(title)\n",
    "print(review)"
   ]
  },
  {
   "cell_type": "code",
   "execution_count": 51,
   "id": "696505ff",
   "metadata": {},
   "outputs": [
    {
     "name": "stdout",
     "output_type": "stream",
     "text": [
      "2023-03-23\n"
     ]
    }
   ],
   "source": [
    "import datetime\n",
    "\n",
    "today = datetime.date.today()\n",
    "\n",
    "print(today)"
   ]
  },
  {
   "cell_type": "code",
   "execution_count": 55,
   "id": "39b9438c",
   "metadata": {},
   "outputs": [],
   "source": [
    "import csv\n",
    "\n",
    "header=('Title','Reveiw','Date')\n",
    "data = [title,review,today]\n",
    "\n",
    "with open('AmazonWebScraperProject.csv','w',newline='',encoding='UTF8')as f:\n",
    "    writer = csv.writer(f)\n",
    "    writer.writerow(header)\n",
    "    writer.writerow(data)"
   ]
  },
  {
   "cell_type": "code",
   "execution_count": 56,
   "id": "1679ecd1",
   "metadata": {},
   "outputs": [
    {
     "name": "stdout",
     "output_type": "stream",
     "text": [
      "                                               Title  \\\n",
      "0  Two Types of People Extrapolate From Incomplet...   \n",
      "\n",
      "                                              Reveiw        Date  \n",
      "0  \\n                    6 ratings\\n             ...  2023-03-23  \n"
     ]
    }
   ],
   "source": [
    "import pandas as pd\n",
    "\n",
    "df = pd.read_csv(r'/Users/sangramsingh/Downloads/AmazonWebScraperProject.csv')\n",
    "\n",
    "print(df)"
   ]
  },
  {
   "cell_type": "code",
   "execution_count": 57,
   "id": "c458a3e6",
   "metadata": {},
   "outputs": [],
   "source": [
    "#now we are amending the data\n",
    "\n",
    "with open('AmazonWebScraperProject.csv','a+',newline='',encoding='UTF8')as f:\n",
    "    writer = csv.writer(f)\n",
    "    writer.writerow(data)\n"
   ]
  },
  {
   "cell_type": "code",
   "execution_count": 72,
   "id": "d1b6f8df",
   "metadata": {},
   "outputs": [],
   "source": [
    "def check_review():\n",
    "    \n",
    "    URL = 'https://www.amazon.co.uk/Two-types-people-extrapolate-incomplete/dp/B07GV1XDJT/ref=sr_1_6?crid=1NQM7F3X94NDM&keywords=data+tshirt&qid=1679571475&sprefix=data+tshirt%2Caps%2C63&sr=8-6'\n",
    "\n",
    "    headers = {\"User-Agent\": \"Mozilla/5.0 (Macintosh; Intel Mac OS X 10_15_7) AppleWebKit/537.36 (KHTML, like Gecko) Chrome/111.0.0.0 Safari/537.36\"}\n",
    "\n",
    "    page = requests.get(URL, headers=headers)\n",
    "\n",
    "    soup1 = BeautifulSoup(page.content,'html.parser')\n",
    "\n",
    "    soup2 = BeautifulSoup(soup1.prettify(),'html.parser')\n",
    "\n",
    "    title = soup2.find(id='productTitle').get_text()\n",
    "\n",
    "    review = soup2.find(id=\"acrCustomerReviewText\").get_text()\n",
    "    \n",
    "    reveiw = review.strip()[1:]\n",
    "    title = title.strip()\n",
    "    \n",
    "    import datetime\n",
    "\n",
    "    today = datetime.date.today()\n",
    "    \n",
    "    import csv\n",
    "\n",
    "    header=('Title','Reveiw','Date')\n",
    "    data = [title,review,today]\n",
    "    \n",
    "    with open('AmazonWebScraperProject.csv','a+',newline='',encoding='UTF8')as f:\n",
    "        writer=csv.writer(f)\n",
    "        writer.writerow(data)\n",
    "    \n"
   ]
  },
  {
   "cell_type": "code",
   "execution_count": null,
   "id": "b7ce466b",
   "metadata": {},
   "outputs": [],
   "source": [
    "while(True):\n",
    "    check_review()\n",
    "    time.sleep(60)"
   ]
  },
  {
   "cell_type": "code",
   "execution_count": null,
   "id": "26bf9c71",
   "metadata": {},
   "outputs": [],
   "source": [
    "import pandas as pd\n",
    "\n",
    "df = pd.read_csv(r'/Users/sangramsingh/Downloads/AmazonWebScraperProject.csv')\n",
    "\n",
    "print(df)"
   ]
  },
  {
   "cell_type": "code",
   "execution_count": null,
   "id": "088754c1",
   "metadata": {},
   "outputs": [],
   "source": []
  },
  {
   "cell_type": "code",
   "execution_count": null,
   "id": "44262c65",
   "metadata": {},
   "outputs": [],
   "source": []
  },
  {
   "cell_type": "code",
   "execution_count": null,
   "id": "b1832614",
   "metadata": {},
   "outputs": [],
   "source": []
  },
  {
   "cell_type": "code",
   "execution_count": null,
   "id": "77cefeca",
   "metadata": {},
   "outputs": [],
   "source": []
  },
  {
   "cell_type": "code",
   "execution_count": null,
   "id": "708ff76f",
   "metadata": {},
   "outputs": [],
   "source": []
  },
  {
   "cell_type": "code",
   "execution_count": null,
   "id": "3a4024a2",
   "metadata": {},
   "outputs": [],
   "source": []
  }
 ],
 "metadata": {
  "kernelspec": {
   "display_name": "Python 3 (ipykernel)",
   "language": "python",
   "name": "python3"
  },
  "language_info": {
   "codemirror_mode": {
    "name": "ipython",
    "version": 3
   },
   "file_extension": ".py",
   "mimetype": "text/x-python",
   "name": "python",
   "nbconvert_exporter": "python",
   "pygments_lexer": "ipython3",
   "version": "3.9.13"
  }
 },
 "nbformat": 4,
 "nbformat_minor": 5
}
